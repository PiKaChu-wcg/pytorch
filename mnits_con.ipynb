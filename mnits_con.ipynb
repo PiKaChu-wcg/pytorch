{
  "nbformat": 4,
  "nbformat_minor": 0,
  "metadata": {
    "colab": {
      "name": "mnits_con.ipynb",
      "provenance": [],
      "mount_file_id": "10DchQQ2wZnaDyAdgQr0P9Gyd_D9J4Wku",
      "authorship_tag": "ABX9TyPNn/fcXxWjocFMmfAoMVYK",
      "include_colab_link": true
    },
    "kernelspec": {
      "name": "python3",
      "display_name": "Python 3"
    }
  },
  "cells": [
    {
      "cell_type": "markdown",
      "metadata": {
        "id": "view-in-github",
        "colab_type": "text"
      },
      "source": [
        "<a href=\"https://colab.research.google.com/github/PiKaChu-wcg/pytorch/blob/main/mnits_con.ipynb\" target=\"_parent\"><img src=\"https://colab.research.google.com/assets/colab-badge.svg\" alt=\"Open In Colab\"/></a>"
      ]
    },
    {
      "cell_type": "code",
      "metadata": {
        "id": "1unjhwV4KYJ-"
      },
      "source": [
        "import torch\r\n",
        "import torch.nn as nn\r\n",
        "import torch.optim as optim\r\n",
        "import torch.nn.functional as F\r\n",
        "import torchvision.datasets as dsets\r\n",
        "import torchvision.transforms as transforms\r\n",
        "import matplotlib.pyplot as plt\r\n",
        "import numpy as np\r\n",
        "import torch.utils.data as data"
      ],
      "execution_count": 37,
      "outputs": []
    },
    {
      "cell_type": "code",
      "metadata": {
        "id": "nncMIx0xLVMX"
      },
      "source": [
        "image_size=28\r\n",
        "num_classes=10\r\n",
        "num_epoch=20\r\n",
        "batch_size=64\r\n",
        "train_dataset=dsets.MNIST(root='./data',\r\n",
        "            train=True,\r\n",
        "            transform=transforms.ToTensor(),\r\n",
        "            download=True)\r\n",
        "test_dataset=dsets.MNIST(root='./data',train=False,transform=transforms.ToTensor())\r\n",
        "train_loader=data.DataLoader(dataset=train_dataset,batch_size=batch_size,shuffle=True)"
      ],
      "execution_count": 40,
      "outputs": []
    },
    {
      "cell_type": "code",
      "metadata": {
        "id": "muAIfAczMWQc"
      },
      "source": [
        "indices=range(len(test_dataset))\r\n",
        "indices_val=indices[:5000]\r\n",
        "indices_test=indices[5000:]\r\n",
        "sampler_val=data.sampler.SubsetRandomSampler(indices_val)\r\n",
        "sampler_test=data.sampler.SubsetRandomSampler(indices_test)\r\n",
        "validation_loader=data.DataLoader(dataset=test_dataset,batch_size=batch_size,sampler=sampler_val)\r\n",
        "test_loader=data.DataLoader(dataset=test_dataset,batch_size=batch_size,sampler=sampler_test)"
      ],
      "execution_count": 14,
      "outputs": []
    },
    {
      "cell_type": "code",
      "metadata": {
        "colab": {
          "base_uri": "https://localhost:8080/",
          "height": 283
        },
        "id": "zlJHMDvoxY2r",
        "outputId": "9ec9f0d4-a445-4f5c-999f-345f8799ac0a"
      },
      "source": [
        "plt.imshow(train_dataset[0][0].numpy()[0,...])"
      ],
      "execution_count": 20,
      "outputs": [
        {
          "output_type": "execute_result",
          "data": {
            "text/plain": [
              "<matplotlib.image.AxesImage at 0x7f5ff0902f50>"
            ]
          },
          "metadata": {
            "tags": []
          },
          "execution_count": 20
        },
        {
          "output_type": "display_data",
          "data": {
            "image/png": "[encoded data removed]",
            "text/plain": [
              "<Figure size 432x288 with 1 Axes>"
            ]
          },
          "metadata": {
            "tags": [],
            "needs_background": "light"
          }
        }
      ]
    },
    {
      "cell_type": "code",
      "metadata": {
        "id": "uNc2p2G_xlPx"
      },
      "source": [
        "depth=[4,8]\r\n",
        "class ConvNet(nn.Module):\r\n",
        "    def __init__(self):\r\n",
        "        super(ConvNet,self).__init__()\r\n",
        "        self.conv1=nn.Conv2d(1,4,5,padding=2)\r\n",
        "        self.pool=nn.MaxPool2d(2,2)\r\n",
        "        self.conv2=nn.Conv2d(depth[0],depth[1],5,padding=2)\r\n",
        "        self.fc1=nn.Linear(image_size//4*image_size//4*depth[1],512)\r\n",
        "        self.fc2=nn.Linear(512,num_classes)\r\n",
        "    def forward(self,x):\r\n",
        "        x=F.relu(self.conv1(x))\r\n",
        "        x=self.pool(x)\r\n",
        "        x=F.relu(self.conv2(x))\r\n",
        "        x=self.pool(x)\r\n",
        "        x=x.view(-1,image_size//4*image_size//4*depth[1])\r\n",
        "        x=F.relu(self.fc1(x))\r\n",
        "        x=F.dropout(x,training=self.training)\r\n",
        "        x=self.fc2(x)\r\n",
        "        x=F.log_softmax(x,dim=0)\r\n",
        "        return x\r\n",
        "    def retrieve_features(self,x):\r\n",
        "        feature_map1=F.relu(self.conv1(x))\r\n",
        "        x=self.pool(feature_map1)\r\n",
        "        feature_map2=F.relu(self.conv2(x))\r\n",
        "        return (feature_map1,feature_map2)\r\n"
      ],
      "execution_count": 56,
      "outputs": []
    },
    {
      "cell_type": "code",
      "metadata": {
        "id": "AEH78rBY2iaO"
      },
      "source": [
        "def rightness(predictions, labels):\r\n",
        "    \"\"\"计算预测错误率的函数，其中predictions是模型给出的一组预测结果，batch_size行num_classes列的矩阵，labels是数据之中的正确答案\"\"\"\r\n",
        "    pred = torch.max(predictions.data, 1)[1] # 对于任意一行（一个样本）的输出值的第1个维度，求最大，得到每一行的最大元素的下标\r\n",
        "    rights = pred.eq(labels.data.view_as(pred)).sum() #将下标与labels中包含的类别进行比较，并累计得到比较正确的数量\r\n",
        "    return rights, len(labels) #返回正确的数量和这一次一共比较了多少元素"
      ],
      "execution_count": 28,
      "outputs": []
    },
    {
      "cell_type": "code",
      "metadata": {
        "colab": {
          "base_uri": "https://localhost:8080/"
        },
        "id": "PIxcUtsP2j54",
        "outputId": "22df5e4b-d337-4b93-9f0c-5d74783f2c57"
      },
      "source": [
        "net=ConvNet()\r\n",
        "criterion=nn.CrossEntropyLoss()\r\n",
        "optimizer=optim.SGD(net.parameters(),lr=0.001,momentum=0.9)\r\n",
        "record=[]\r\n",
        "weights=[]\r\n",
        "for epoch in range(num_epoch):\r\n",
        "    train_rights=[]\r\n",
        "    for batch_idx,(data,target) in enumerate(train_loader):    \r\n",
        "        data,target=data.clone().requires_grad_(True),target.clone().detach()\r\n",
        "        net.train()\r\n",
        "        output=net(data)\r\n",
        "        loss=criterion(output,target)\r\n",
        "        optimizer.zero_grad()\r\n",
        "        loss.backward()\r\n",
        "        optimizer.step()\r\n",
        "        right=rightness(output,target)\r\n",
        "        train_rights.append(right)\r\n",
        "        if batch_idx%100==0:\r\n",
        "            net.eval()\r\n",
        "            val_rights=[]\r\n",
        "            for (data,target) in validation_loader:\r\n",
        "                data, target = data.clone().requires_grad_(True), target.clone().detach()\r\n",
        "                output=net(data)\r\n",
        "                right=rightness(output,target)\r\n",
        "                val_rights.append(right)\r\n",
        "            train_r = (sum([tup[0] for tup in train_rights]), sum([tup[1] for tup in train_rights]))\r\n",
        "            val_r = (sum([tup[0] for tup in val_rights]), sum([tup[1] for tup in val_rights]))\r\n",
        "            print(val_r)\r\n",
        "            print('训练周期: {} [{}/{} ({:.0f}%)]\\tLoss: {:.6f}\\t训练正确率: {:.2f}%\\t校验正确率: {:.2f}%'.format(\r\n",
        "                epoch, batch_idx * batch_size, len(train_loader.dataset),\r\n",
        "                100. * batch_idx / len(train_loader), \r\n",
        "                loss.data, \r\n",
        "                100. * train_r[0].numpy() / train_r[1], \r\n",
        "                100. * val_r[0] / val_r[1]))\r\n",
        "            record.append((100 - 100. * train_r[0] / train_r[1], 100 - 100. * val_r[0] / val_r[1]))\r\n",
        "            weights.append([net.conv1.weight.data.clone(), net.conv1.bias.data.clone(), \r\n",
        "                            net.conv2.weight.data.clone(), net.conv2.bias.data.clone()])\r\n"
      ],
      "execution_count": 49,
      "outputs": [
        {
          "output_type": "stream",
          "text": [
            "(tensor(821), 5000)\n",
            "训练周期: 0 [0/60000 (0%)]\tLoss: 2.300646\t训练正确率: 10.94%\t校验正确率: 16.42%\n",
            "(tensor(2077), 5000)\n",
            "训练周期: 0 [6400/60000 (11%)]\tLoss: 2.285316\t训练正确率: 16.72%\t校验正确率: 41.54%\n",
            "(tensor(2748), 5000)\n",
            "训练周期: 0 [12800/60000 (21%)]\tLoss: 2.221250\t训练正确率: 23.49%\t校验正确率: 54.96%\n",
            "(tensor(3071), 5000)\n",
            "训练周期: 0 [19200/60000 (32%)]\tLoss: 2.032632\t训练正确率: 29.44%\t校验正确率: 61.42%\n",
            "(tensor(3546), 5000)\n",
            "训练周期: 0 [25600/60000 (43%)]\tLoss: 1.165784\t训练正确率: 35.26%\t校验正确率: 70.92%\n",
            "(tensor(3837), 5000)\n",
            "训练周期: 0 [32000/60000 (53%)]\tLoss: 0.841432\t训练正确率: 41.84%\t校验正确率: 76.74%\n",
            "(tensor(4054), 5000)\n",
            "训练周期: 0 [38400/60000 (64%)]\tLoss: 0.697914\t训练正确率: 47.30%\t校验正确率: 81.08%\n",
            "(tensor(4138), 5000)\n",
            "训练周期: 0 [44800/60000 (75%)]\tLoss: 0.597752\t训练正确率: 51.80%\t校验正确率: 82.76%\n",
            "(tensor(4169), 5000)\n",
            "训练周期: 0 [51200/60000 (85%)]\tLoss: 0.536815\t训练正确率: 55.49%\t校验正确率: 83.38%\n",
            "(tensor(4260), 5000)\n",
            "训练周期: 0 [57600/60000 (96%)]\tLoss: 0.511497\t训练正确率: 58.50%\t校验正确率: 85.20%\n",
            "(tensor(4304), 5000)\n",
            "训练周期: 1 [0/60000 (0%)]\tLoss: 0.506356\t训练正确率: 85.94%\t校验正确率: 86.08%\n",
            "(tensor(4331), 5000)\n",
            "训练周期: 1 [6400/60000 (11%)]\tLoss: 0.462563\t训练正确率: 84.87%\t校验正确率: 86.62%\n",
            "(tensor(4398), 5000)\n",
            "训练周期: 1 [12800/60000 (21%)]\tLoss: 0.370026\t训练正确率: 85.08%\t校验正确率: 87.96%\n",
            "(tensor(4384), 5000)\n",
            "训练周期: 1 [19200/60000 (32%)]\tLoss: 0.686765\t训练正确率: 85.52%\t校验正确率: 87.68%\n",
            "(tensor(4463), 5000)\n",
            "训练周期: 1 [25600/60000 (43%)]\tLoss: 0.363226\t训练正确率: 85.99%\t校验正确率: 89.26%\n",
            "(tensor(4488), 5000)\n",
            "训练周期: 1 [32000/60000 (53%)]\tLoss: 0.423446\t训练正确率: 86.46%\t校验正确率: 89.76%\n",
            "(tensor(4506), 5000)\n",
            "训练周期: 1 [38400/60000 (64%)]\tLoss: 0.388699\t训练正确率: 86.81%\t校验正确率: 90.12%\n",
            "(tensor(4506), 5000)\n",
            "训练周期: 1 [44800/60000 (75%)]\tLoss: 0.303844\t训练正确率: 87.21%\t校验正确率: 90.12%\n",
            "(tensor(4565), 5000)\n",
            "训练周期: 1 [51200/60000 (85%)]\tLoss: 0.485732\t训练正确率: 87.51%\t校验正确率: 91.30%\n",
            "(tensor(4566), 5000)\n",
            "训练周期: 1 [57600/60000 (96%)]\tLoss: 0.135956\t训练正确率: 87.87%\t校验正确率: 91.32%\n",
            "(tensor(4553), 5000)\n",
            "训练周期: 2 [0/60000 (0%)]\tLoss: 0.452555\t训练正确率: 85.94%\t校验正确率: 91.06%\n",
            "(tensor(4577), 5000)\n",
            "训练周期: 2 [6400/60000 (11%)]\tLoss: 0.364086\t训练正确率: 90.93%\t校验正确率: 91.54%\n",
            "(tensor(4596), 5000)\n",
            "训练周期: 2 [12800/60000 (21%)]\tLoss: 0.127360\t训练正确率: 90.83%\t校验正确率: 91.92%\n",
            "(tensor(4634), 5000)\n",
            "训练周期: 2 [19200/60000 (32%)]\tLoss: 0.431607\t训练正确率: 91.10%\t校验正确率: 92.68%\n",
            "(tensor(4618), 5000)\n",
            "训练周期: 2 [25600/60000 (43%)]\tLoss: 0.222761\t训练正确率: 91.26%\t校验正确率: 92.36%\n",
            "(tensor(4630), 5000)\n",
            "训练周期: 2 [32000/60000 (53%)]\tLoss: 0.303696\t训练正确率: 91.27%\t校验正确率: 92.60%\n",
            "(tensor(4623), 5000)\n",
            "训练周期: 2 [38400/60000 (64%)]\tLoss: 0.331378\t训练正确率: 91.40%\t校验正确率: 92.46%\n",
            "(tensor(4674), 5000)\n",
            "训练周期: 2 [44800/60000 (75%)]\tLoss: 0.171166\t训练正确率: 91.57%\t校验正确率: 93.48%\n",
            "(tensor(4671), 5000)\n",
            "训练周期: 2 [51200/60000 (85%)]\tLoss: 0.328577\t训练正确率: 91.61%\t校验正确率: 93.42%\n",
            "(tensor(4680), 5000)\n",
            "训练周期: 2 [57600/60000 (96%)]\tLoss: 0.160780\t训练正确率: 91.72%\t校验正确率: 93.60%\n",
            "(tensor(4665), 5000)\n",
            "训练周期: 3 [0/60000 (0%)]\tLoss: 0.156735\t训练正确率: 95.31%\t校验正确率: 93.30%\n",
            "(tensor(4692), 5000)\n",
            "训练周期: 3 [6400/60000 (11%)]\tLoss: 0.143994\t训练正确率: 92.78%\t校验正确率: 93.84%\n",
            "(tensor(4695), 5000)\n",
            "训练周期: 3 [12800/60000 (21%)]\tLoss: 0.210633\t训练正确率: 93.18%\t校验正确率: 93.90%\n",
            "(tensor(4692), 5000)\n",
            "训练周期: 3 [19200/60000 (32%)]\tLoss: 0.414032\t训练正确率: 93.18%\t校验正确率: 93.84%\n",
            "(tensor(4683), 5000)\n",
            "训练周期: 3 [25600/60000 (43%)]\tLoss: 0.341421\t训练正确率: 93.29%\t校验正确率: 93.66%\n",
            "(tensor(4728), 5000)\n",
            "训练周期: 3 [32000/60000 (53%)]\tLoss: 0.211328\t训练正确率: 93.43%\t校验正确率: 94.56%\n",
            "(tensor(4697), 5000)\n",
            "训练周期: 3 [38400/60000 (64%)]\tLoss: 0.061651\t训练正确率: 93.44%\t校验正确率: 93.94%\n",
            "(tensor(4707), 5000)\n",
            "训练周期: 3 [44800/60000 (75%)]\tLoss: 0.109276\t训练正确率: 93.50%\t校验正确率: 94.14%\n",
            "(tensor(4731), 5000)\n",
            "训练周期: 3 [51200/60000 (85%)]\tLoss: 0.477423\t训练正确率: 93.61%\t校验正确率: 94.62%\n",
            "(tensor(4709), 5000)\n",
            "训练周期: 3 [57600/60000 (96%)]\tLoss: 0.123064\t训练正确率: 93.67%\t校验正确率: 94.18%\n",
            "(tensor(4712), 5000)\n",
            "训练周期: 4 [0/60000 (0%)]\tLoss: 0.111904\t训练正确率: 98.44%\t校验正确率: 94.24%\n",
            "(tensor(4740), 5000)\n",
            "训练周期: 4 [6400/60000 (11%)]\tLoss: 0.193051\t训练正确率: 94.63%\t校验正确率: 94.80%\n",
            "(tensor(4774), 5000)\n",
            "训练周期: 4 [12800/60000 (21%)]\tLoss: 0.251676\t训练正确率: 94.47%\t校验正确率: 95.48%\n",
            "(tensor(4746), 5000)\n",
            "训练周期: 4 [19200/60000 (32%)]\tLoss: 0.201945\t训练正确率: 94.49%\t校验正确率: 94.92%\n",
            "(tensor(4760), 5000)\n",
            "训练周期: 4 [25600/60000 (43%)]\tLoss: 0.171756\t训练正确率: 94.55%\t校验正确率: 95.20%\n",
            "(tensor(4761), 5000)\n",
            "训练周期: 4 [32000/60000 (53%)]\tLoss: 0.238646\t训练正确率: 94.53%\t校验正确率: 95.22%\n",
            "(tensor(4739), 5000)\n",
            "训练周期: 4 [38400/60000 (64%)]\tLoss: 0.129057\t训练正确率: 94.68%\t校验正确率: 94.78%\n",
            "(tensor(4735), 5000)\n",
            "训练周期: 4 [44800/60000 (75%)]\tLoss: 0.079864\t训练正确率: 94.70%\t校验正确率: 94.70%\n",
            "(tensor(4753), 5000)\n",
            "训练周期: 4 [51200/60000 (85%)]\tLoss: 0.116972\t训练正确率: 94.65%\t校验正确率: 95.06%\n",
            "(tensor(4747), 5000)\n",
            "训练周期: 4 [57600/60000 (96%)]\tLoss: 0.217600\t训练正确率: 94.67%\t校验正确率: 94.94%\n",
            "(tensor(4772), 5000)\n",
            "训练周期: 5 [0/60000 (0%)]\tLoss: 0.169321\t训练正确率: 92.19%\t校验正确率: 95.44%\n",
            "(tensor(4779), 5000)\n",
            "训练周期: 5 [6400/60000 (11%)]\tLoss: 0.185948\t训练正确率: 94.99%\t校验正确率: 95.58%\n",
            "(tensor(4789), 5000)\n",
            "训练周期: 5 [12800/60000 (21%)]\tLoss: 0.205162\t训练正确率: 94.95%\t校验正确率: 95.78%\n",
            "(tensor(4779), 5000)\n",
            "训练周期: 5 [19200/60000 (32%)]\tLoss: 0.259274\t训练正确率: 94.94%\t校验正确率: 95.58%\n",
            "(tensor(4789), 5000)\n",
            "训练周期: 5 [25600/60000 (43%)]\tLoss: 0.054411\t训练正确率: 94.96%\t校验正确率: 95.78%\n",
            "(tensor(4776), 5000)\n",
            "训练周期: 5 [32000/60000 (53%)]\tLoss: 0.179879\t训练正确率: 95.10%\t校验正确率: 95.52%\n",
            "(tensor(4774), 5000)\n",
            "训练周期: 5 [38400/60000 (64%)]\tLoss: 0.157809\t训练正确率: 95.11%\t校验正确率: 95.48%\n",
            "(tensor(4780), 5000)\n",
            "训练周期: 5 [44800/60000 (75%)]\tLoss: 0.123282\t训练正确率: 95.21%\t校验正确率: 95.60%\n",
            "(tensor(4776), 5000)\n",
            "训练周期: 5 [51200/60000 (85%)]\tLoss: 0.195226\t训练正确率: 95.25%\t校验正确率: 95.52%\n",
            "(tensor(4783), 5000)\n",
            "训练周期: 5 [57600/60000 (96%)]\tLoss: 0.232397\t训练正确率: 95.31%\t校验正确率: 95.66%\n",
            "(tensor(4789), 5000)\n",
            "训练周期: 6 [0/60000 (0%)]\tLoss: 0.201418\t训练正确率: 92.19%\t校验正确率: 95.78%\n",
            "(tensor(4804), 5000)\n",
            "训练周期: 6 [6400/60000 (11%)]\tLoss: 0.146619\t训练正确率: 95.73%\t校验正确率: 96.08%\n",
            "(tensor(4798), 5000)\n",
            "训练周期: 6 [12800/60000 (21%)]\tLoss: 0.116459\t训练正确率: 95.72%\t校验正确率: 95.96%\n",
            "(tensor(4787), 5000)\n",
            "训练周期: 6 [19200/60000 (32%)]\tLoss: 0.050685\t训练正确率: 95.77%\t校验正确率: 95.74%\n",
            "(tensor(4790), 5000)\n",
            "训练周期: 6 [25600/60000 (43%)]\tLoss: 0.176806\t训练正确率: 95.83%\t校验正确率: 95.80%\n",
            "(tensor(4802), 5000)\n",
            "训练周期: 6 [32000/60000 (53%)]\tLoss: 0.081656\t训练正确率: 95.80%\t校验正确率: 96.04%\n",
            "(tensor(4799), 5000)\n",
            "训练周期: 6 [38400/60000 (64%)]\tLoss: 0.332613\t训练正确率: 95.87%\t校验正确率: 95.98%\n",
            "(tensor(4797), 5000)\n",
            "训练周期: 6 [44800/60000 (75%)]\tLoss: 0.057142\t训练正确率: 95.90%\t校验正确率: 95.94%\n",
            "(tensor(4798), 5000)\n",
            "训练周期: 6 [51200/60000 (85%)]\tLoss: 0.288475\t训练正确率: 95.86%\t校验正确率: 95.96%\n",
            "(tensor(4805), 5000)\n",
            "训练周期: 6 [57600/60000 (96%)]\tLoss: 0.189888\t训练正确率: 95.94%\t校验正确率: 96.10%\n",
            "(tensor(4789), 5000)\n",
            "训练周期: 7 [0/60000 (0%)]\tLoss: 0.117285\t训练正确率: 95.31%\t校验正确率: 95.78%\n",
            "(tensor(4808), 5000)\n",
            "训练周期: 7 [6400/60000 (11%)]\tLoss: 0.055413\t训练正确率: 96.26%\t校验正确率: 96.16%\n",
            "(tensor(4812), 5000)\n",
            "训练周期: 7 [12800/60000 (21%)]\tLoss: 0.142986\t训练正确率: 96.21%\t校验正确率: 96.24%\n",
            "(tensor(4824), 5000)\n",
            "训练周期: 7 [19200/60000 (32%)]\tLoss: 0.073299\t训练正确率: 96.22%\t校验正确率: 96.48%\n",
            "(tensor(4799), 5000)\n",
            "训练周期: 7 [25600/60000 (43%)]\tLoss: 0.050455\t训练正确率: 96.30%\t校验正确率: 95.98%\n",
            "(tensor(4804), 5000)\n",
            "训练周期: 7 [32000/60000 (53%)]\tLoss: 0.209200\t训练正确率: 96.26%\t校验正确率: 96.08%\n",
            "(tensor(4812), 5000)\n",
            "训练周期: 7 [38400/60000 (64%)]\tLoss: 0.072942\t训练正确率: 96.28%\t校验正确率: 96.24%\n",
            "(tensor(4816), 5000)\n",
            "训练周期: 7 [44800/60000 (75%)]\tLoss: 0.110373\t训练正确率: 96.28%\t校验正确率: 96.32%\n",
            "(tensor(4835), 5000)\n",
            "训练周期: 7 [51200/60000 (85%)]\tLoss: 0.068597\t训练正确率: 96.29%\t校验正确率: 96.70%\n",
            "(tensor(4830), 5000)\n",
            "训练周期: 7 [57600/60000 (96%)]\tLoss: 0.101592\t训练正确率: 96.32%\t校验正确率: 96.60%\n",
            "(tensor(4821), 5000)\n",
            "训练周期: 8 [0/60000 (0%)]\tLoss: 0.227019\t训练正确率: 90.62%\t校验正确率: 96.42%\n",
            "(tensor(4833), 5000)\n",
            "训练周期: 8 [6400/60000 (11%)]\tLoss: 0.221593\t训练正确率: 96.52%\t校验正确率: 96.66%\n",
            "(tensor(4819), 5000)\n",
            "训练周期: 8 [12800/60000 (21%)]\tLoss: 0.206982\t训练正确率: 96.25%\t校验正确率: 96.38%\n",
            "(tensor(4803), 5000)\n",
            "训练周期: 8 [19200/60000 (32%)]\tLoss: 0.171769\t训练正确率: 96.31%\t校验正确率: 96.06%\n",
            "(tensor(4814), 5000)\n",
            "训练周期: 8 [25600/60000 (43%)]\tLoss: 0.022058\t训练正确率: 96.29%\t校验正确率: 96.28%\n",
            "(tensor(4839), 5000)\n",
            "训练周期: 8 [32000/60000 (53%)]\tLoss: 0.058923\t训练正确率: 96.32%\t校验正确率: 96.78%\n",
            "(tensor(4832), 5000)\n",
            "训练周期: 8 [38400/60000 (64%)]\tLoss: 0.065265\t训练正确率: 96.39%\t校验正确率: 96.64%\n",
            "(tensor(4828), 5000)\n",
            "训练周期: 8 [44800/60000 (75%)]\tLoss: 0.106236\t训练正确率: 96.39%\t校验正确率: 96.56%\n",
            "(tensor(4829), 5000)\n",
            "训练周期: 8 [51200/60000 (85%)]\tLoss: 0.267725\t训练正确率: 96.43%\t校验正确率: 96.58%\n",
            "(tensor(4827), 5000)\n",
            "训练周期: 8 [57600/60000 (96%)]\tLoss: 0.122934\t训练正确率: 96.46%\t校验正确率: 96.54%\n",
            "(tensor(4855), 5000)\n",
            "训练周期: 9 [0/60000 (0%)]\tLoss: 0.207095\t训练正确率: 92.19%\t校验正确率: 97.10%\n",
            "(tensor(4846), 5000)\n",
            "训练周期: 9 [6400/60000 (11%)]\tLoss: 0.114904\t训练正确率: 96.47%\t校验正确率: 96.92%\n",
            "(tensor(4842), 5000)\n",
            "训练周期: 9 [12800/60000 (21%)]\tLoss: 0.115191\t训练正确率: 96.50%\t校验正确率: 96.84%\n",
            "(tensor(4829), 5000)\n",
            "训练周期: 9 [19200/60000 (32%)]\tLoss: 0.227360\t训练正确率: 96.57%\t校验正确率: 96.58%\n",
            "(tensor(4834), 5000)\n",
            "训练周期: 9 [25600/60000 (43%)]\tLoss: 0.028466\t训练正确率: 96.63%\t校验正确率: 96.68%\n",
            "(tensor(4828), 5000)\n",
            "训练周期: 9 [32000/60000 (53%)]\tLoss: 0.102722\t训练正确率: 96.69%\t校验正确率: 96.56%\n",
            "(tensor(4834), 5000)\n",
            "训练周期: 9 [38400/60000 (64%)]\tLoss: 0.198397\t训练正确率: 96.69%\t校验正确率: 96.68%\n",
            "(tensor(4833), 5000)\n",
            "训练周期: 9 [44800/60000 (75%)]\tLoss: 0.281184\t训练正确率: 96.72%\t校验正确率: 96.66%\n",
            "(tensor(4849), 5000)\n",
            "训练周期: 9 [51200/60000 (85%)]\tLoss: 0.033575\t训练正确率: 96.78%\t校验正确率: 96.98%\n",
            "(tensor(4834), 5000)\n",
            "训练周期: 9 [57600/60000 (96%)]\tLoss: 0.081666\t训练正确率: 96.80%\t校验正确率: 96.68%\n",
            "(tensor(4845), 5000)\n",
            "训练周期: 10 [0/60000 (0%)]\tLoss: 0.026341\t训练正确率: 100.00%\t校验正确率: 96.90%\n",
            "(tensor(4839), 5000)\n",
            "训练周期: 10 [6400/60000 (11%)]\tLoss: 0.174724\t训练正确率: 96.80%\t校验正确率: 96.78%\n",
            "(tensor(4852), 5000)\n",
            "训练周期: 10 [12800/60000 (21%)]\tLoss: 0.198451\t训练正确率: 96.67%\t校验正确率: 97.04%\n",
            "(tensor(4848), 5000)\n",
            "训练周期: 10 [19200/60000 (32%)]\tLoss: 0.040341\t训练正确率: 96.84%\t校验正确率: 96.96%\n",
            "(tensor(4843), 5000)\n",
            "训练周期: 10 [25600/60000 (43%)]\tLoss: 0.099520\t训练正确率: 96.88%\t校验正确率: 96.86%\n",
            "(tensor(4848), 5000)\n",
            "训练周期: 10 [32000/60000 (53%)]\tLoss: 0.025069\t训练正确率: 96.87%\t校验正确率: 96.96%\n",
            "(tensor(4844), 5000)\n",
            "训练周期: 10 [38400/60000 (64%)]\tLoss: 0.163213\t训练正确率: 96.91%\t校验正确率: 96.88%\n",
            "(tensor(4841), 5000)\n",
            "训练周期: 10 [44800/60000 (75%)]\tLoss: 0.237040\t训练正确率: 96.95%\t校验正确率: 96.82%\n",
            "(tensor(4853), 5000)\n",
            "训练周期: 10 [51200/60000 (85%)]\tLoss: 0.054612\t训练正确率: 96.97%\t校验正确率: 97.06%\n",
            "(tensor(4856), 5000)\n",
            "训练周期: 10 [57600/60000 (96%)]\tLoss: 0.086669\t训练正确率: 96.97%\t校验正确率: 97.12%\n",
            "(tensor(4851), 5000)\n",
            "训练周期: 11 [0/60000 (0%)]\tLoss: 0.170359\t训练正确率: 92.19%\t校验正确率: 97.02%\n",
            "(tensor(4853), 5000)\n",
            "训练周期: 11 [6400/60000 (11%)]\tLoss: 0.161187\t训练正确率: 97.15%\t校验正确率: 97.06%\n",
            "(tensor(4848), 5000)\n",
            "训练周期: 11 [12800/60000 (21%)]\tLoss: 0.115855\t训练正确率: 97.19%\t校验正确率: 96.96%\n",
            "(tensor(4854), 5000)\n",
            "训练周期: 11 [19200/60000 (32%)]\tLoss: 0.186857\t训练正确率: 97.23%\t校验正确率: 97.08%\n",
            "(tensor(4846), 5000)\n",
            "训练周期: 11 [25600/60000 (43%)]\tLoss: 0.101202\t训练正确率: 97.15%\t校验正确率: 96.92%\n",
            "(tensor(4850), 5000)\n",
            "训练周期: 11 [32000/60000 (53%)]\tLoss: 0.028823\t训练正确率: 97.15%\t校验正确率: 97.00%\n",
            "(tensor(4858), 5000)\n",
            "训练周期: 11 [38400/60000 (64%)]\tLoss: 0.013594\t训练正确率: 97.09%\t校验正确率: 97.16%\n",
            "(tensor(4855), 5000)\n",
            "训练周期: 11 [44800/60000 (75%)]\tLoss: 0.055169\t训练正确率: 97.11%\t校验正确率: 97.10%\n",
            "(tensor(4844), 5000)\n",
            "训练周期: 11 [51200/60000 (85%)]\tLoss: 0.083542\t训练正确率: 97.10%\t校验正确率: 96.88%\n",
            "(tensor(4837), 5000)\n",
            "训练周期: 11 [57600/60000 (96%)]\tLoss: 0.028368\t训练正确率: 97.09%\t校验正确率: 96.74%\n",
            "(tensor(4843), 5000)\n",
            "训练周期: 12 [0/60000 (0%)]\tLoss: 0.108158\t训练正确率: 98.44%\t校验正确率: 96.86%\n",
            "(tensor(4867), 5000)\n",
            "训练周期: 12 [6400/60000 (11%)]\tLoss: 0.061559\t训练正确率: 97.01%\t校验正确率: 97.34%\n",
            "(tensor(4858), 5000)\n",
            "训练周期: 12 [12800/60000 (21%)]\tLoss: 0.021027\t训练正确率: 96.94%\t校验正确率: 97.16%\n",
            "(tensor(4855), 5000)\n",
            "训练周期: 12 [19200/60000 (32%)]\tLoss: 0.212211\t训练正确率: 97.00%\t校验正确率: 97.10%\n",
            "(tensor(4861), 5000)\n",
            "训练周期: 12 [25600/60000 (43%)]\tLoss: 0.071821\t训练正确率: 97.15%\t校验正确率: 97.22%\n",
            "(tensor(4861), 5000)\n",
            "训练周期: 12 [32000/60000 (53%)]\tLoss: 0.106043\t训练正确率: 97.19%\t校验正确率: 97.22%\n",
            "(tensor(4858), 5000)\n",
            "训练周期: 12 [38400/60000 (64%)]\tLoss: 0.031922\t训练正确率: 97.21%\t校验正确率: 97.16%\n",
            "(tensor(4864), 5000)\n",
            "训练周期: 12 [44800/60000 (75%)]\tLoss: 0.015081\t训练正确率: 97.20%\t校验正确率: 97.28%\n",
            "(tensor(4859), 5000)\n",
            "训练周期: 12 [51200/60000 (85%)]\tLoss: 0.086824\t训练正确率: 97.22%\t校验正确率: 97.18%\n",
            "(tensor(4860), 5000)\n",
            "训练周期: 12 [57600/60000 (96%)]\tLoss: 0.070237\t训练正确率: 97.21%\t校验正确率: 97.20%\n",
            "(tensor(4853), 5000)\n",
            "训练周期: 13 [0/60000 (0%)]\tLoss: 0.045828\t训练正确率: 100.00%\t校验正确率: 97.06%\n",
            "(tensor(4875), 5000)\n",
            "训练周期: 13 [6400/60000 (11%)]\tLoss: 0.214869\t训练正确率: 97.15%\t校验正确率: 97.50%\n",
            "(tensor(4862), 5000)\n",
            "训练周期: 13 [12800/60000 (21%)]\tLoss: 0.059510\t训练正确率: 97.21%\t校验正确率: 97.24%\n",
            "(tensor(4855), 5000)\n",
            "训练周期: 13 [19200/60000 (32%)]\tLoss: 0.022808\t训练正确率: 97.37%\t校验正确率: 97.10%\n",
            "(tensor(4869), 5000)\n",
            "训练周期: 13 [25600/60000 (43%)]\tLoss: 0.102082\t训练正确率: 97.42%\t校验正确率: 97.38%\n",
            "(tensor(4874), 5000)\n",
            "训练周期: 13 [32000/60000 (53%)]\tLoss: 0.053419\t训练正确率: 97.36%\t校验正确率: 97.48%\n",
            "(tensor(4865), 5000)\n",
            "训练周期: 13 [38400/60000 (64%)]\tLoss: 0.017740\t训练正确率: 97.37%\t校验正确率: 97.30%\n",
            "(tensor(4867), 5000)\n",
            "训练周期: 13 [44800/60000 (75%)]\tLoss: 0.200726\t训练正确率: 97.36%\t校验正确率: 97.34%\n",
            "(tensor(4865), 5000)\n",
            "训练周期: 13 [51200/60000 (85%)]\tLoss: 0.036944\t训练正确率: 97.36%\t校验正确率: 97.30%\n",
            "(tensor(4873), 5000)\n",
            "训练周期: 13 [57600/60000 (96%)]\tLoss: 0.062634\t训练正确率: 97.35%\t校验正确率: 97.46%\n",
            "(tensor(4868), 5000)\n",
            "训练周期: 14 [0/60000 (0%)]\tLoss: 0.051535\t训练正确率: 98.44%\t校验正确率: 97.36%\n",
            "(tensor(4863), 5000)\n",
            "训练周期: 14 [6400/60000 (11%)]\tLoss: 0.162284\t训练正确率: 97.34%\t校验正确率: 97.26%\n",
            "(tensor(4854), 5000)\n",
            "训练周期: 14 [12800/60000 (21%)]\tLoss: 0.050803\t训练正确率: 97.46%\t校验正确率: 97.08%\n",
            "(tensor(4859), 5000)\n",
            "训练周期: 14 [19200/60000 (32%)]\tLoss: 0.024086\t训练正确率: 97.35%\t校验正确率: 97.18%\n",
            "(tensor(4879), 5000)\n",
            "训练周期: 14 [25600/60000 (43%)]\tLoss: 0.136272\t训练正确率: 97.42%\t校验正确率: 97.58%\n",
            "(tensor(4856), 5000)\n",
            "训练周期: 14 [32000/60000 (53%)]\tLoss: 0.030235\t训练正确率: 97.46%\t校验正确率: 97.12%\n",
            "(tensor(4868), 5000)\n",
            "训练周期: 14 [38400/60000 (64%)]\tLoss: 0.126046\t训练正确率: 97.50%\t校验正确率: 97.36%\n",
            "(tensor(4880), 5000)\n",
            "训练周期: 14 [44800/60000 (75%)]\tLoss: 0.095387\t训练正确率: 97.51%\t校验正确率: 97.60%\n",
            "(tensor(4863), 5000)\n",
            "训练周期: 14 [51200/60000 (85%)]\tLoss: 0.102630\t训练正确率: 97.47%\t校验正确率: 97.26%\n",
            "(tensor(4865), 5000)\n",
            "训练周期: 14 [57600/60000 (96%)]\tLoss: 0.032238\t训练正确率: 97.48%\t校验正确率: 97.30%\n",
            "(tensor(4878), 5000)\n",
            "训练周期: 15 [0/60000 (0%)]\tLoss: 0.124790\t训练正确率: 98.44%\t校验正确率: 97.56%\n",
            "(tensor(4867), 5000)\n",
            "训练周期: 15 [6400/60000 (11%)]\tLoss: 0.244496\t训练正确率: 97.39%\t校验正确率: 97.34%\n",
            "(tensor(4867), 5000)\n",
            "训练周期: 15 [12800/60000 (21%)]\tLoss: 0.114546\t训练正确率: 97.26%\t校验正确率: 97.34%\n",
            "(tensor(4863), 5000)\n",
            "训练周期: 15 [19200/60000 (32%)]\tLoss: 0.029357\t训练正确率: 97.37%\t校验正确率: 97.26%\n",
            "(tensor(4885), 5000)\n",
            "训练周期: 15 [25600/60000 (43%)]\tLoss: 0.055222\t训练正确率: 97.50%\t校验正确率: 97.70%\n",
            "(tensor(4872), 5000)\n",
            "训练周期: 15 [32000/60000 (53%)]\tLoss: 0.051990\t训练正确率: 97.55%\t校验正确率: 97.44%\n",
            "(tensor(4872), 5000)\n",
            "训练周期: 15 [38400/60000 (64%)]\tLoss: 0.080364\t训练正确率: 97.60%\t校验正确率: 97.44%\n",
            "(tensor(4878), 5000)\n",
            "训练周期: 15 [44800/60000 (75%)]\tLoss: 0.036516\t训练正确率: 97.65%\t校验正确率: 97.56%\n",
            "(tensor(4873), 5000)\n",
            "训练周期: 15 [51200/60000 (85%)]\tLoss: 0.042395\t训练正确率: 97.59%\t校验正确率: 97.46%\n",
            "(tensor(4881), 5000)\n",
            "训练周期: 15 [57600/60000 (96%)]\tLoss: 0.191159\t训练正确率: 97.60%\t校验正确率: 97.62%\n",
            "(tensor(4889), 5000)\n",
            "训练周期: 16 [0/60000 (0%)]\tLoss: 0.092733\t训练正确率: 96.88%\t校验正确率: 97.78%\n",
            "(tensor(4873), 5000)\n",
            "训练周期: 16 [6400/60000 (11%)]\tLoss: 0.114821\t训练正确率: 97.82%\t校验正确率: 97.46%\n",
            "(tensor(4869), 5000)\n",
            "训练周期: 16 [12800/60000 (21%)]\tLoss: 0.017566\t训练正确率: 97.85%\t校验正确率: 97.38%\n",
            "(tensor(4873), 5000)\n",
            "训练周期: 16 [19200/60000 (32%)]\tLoss: 0.120116\t训练正确率: 97.82%\t校验正确率: 97.46%\n",
            "(tensor(4876), 5000)\n",
            "训练周期: 16 [25600/60000 (43%)]\tLoss: 0.110878\t训练正确率: 97.72%\t校验正确率: 97.52%\n",
            "(tensor(4888), 5000)\n",
            "训练周期: 16 [32000/60000 (53%)]\tLoss: 0.057152\t训练正确率: 97.64%\t校验正确率: 97.76%\n",
            "(tensor(4868), 5000)\n",
            "训练周期: 16 [38400/60000 (64%)]\tLoss: 0.054581\t训练正确率: 97.69%\t校验正确率: 97.36%\n",
            "(tensor(4876), 5000)\n",
            "训练周期: 16 [44800/60000 (75%)]\tLoss: 0.181937\t训练正确率: 97.72%\t校验正确率: 97.52%\n",
            "(tensor(4888), 5000)\n",
            "训练周期: 16 [51200/60000 (85%)]\tLoss: 0.024109\t训练正确率: 97.77%\t校验正确率: 97.76%\n",
            "(tensor(4869), 5000)\n",
            "训练周期: 16 [57600/60000 (96%)]\tLoss: 0.125532\t训练正确率: 97.72%\t校验正确率: 97.38%\n",
            "(tensor(4873), 5000)\n",
            "训练周期: 17 [0/60000 (0%)]\tLoss: 0.031673\t训练正确率: 98.44%\t校验正确率: 97.46%\n",
            "(tensor(4889), 5000)\n",
            "训练周期: 17 [6400/60000 (11%)]\tLoss: 0.038374\t训练正确率: 98.08%\t校验正确率: 97.78%\n",
            "(tensor(4867), 5000)\n",
            "训练周期: 17 [12800/60000 (21%)]\tLoss: 0.083426\t训练正确率: 97.76%\t校验正确率: 97.34%\n",
            "(tensor(4881), 5000)\n",
            "训练周期: 17 [19200/60000 (32%)]\tLoss: 0.025104\t训练正确率: 97.69%\t校验正确率: 97.62%\n",
            "(tensor(4891), 5000)\n",
            "训练周期: 17 [25600/60000 (43%)]\tLoss: 0.135852\t训练正确率: 97.69%\t校验正确率: 97.82%\n",
            "(tensor(4865), 5000)\n",
            "训练周期: 17 [32000/60000 (53%)]\tLoss: 0.027692\t训练正确率: 97.69%\t校验正确率: 97.30%\n",
            "(tensor(4889), 5000)\n",
            "训练周期: 17 [38400/60000 (64%)]\tLoss: 0.062548\t训练正确率: 97.73%\t校验正确率: 97.78%\n",
            "(tensor(4859), 5000)\n",
            "训练周期: 17 [44800/60000 (75%)]\tLoss: 0.078153\t训练正确率: 97.71%\t校验正确率: 97.18%\n",
            "(tensor(4891), 5000)\n",
            "训练周期: 17 [51200/60000 (85%)]\tLoss: 0.160689\t训练正确率: 97.69%\t校验正确率: 97.82%\n",
            "(tensor(4890), 5000)\n",
            "训练周期: 17 [57600/60000 (96%)]\tLoss: 0.131181\t训练正确率: 97.68%\t校验正确率: 97.80%\n",
            "(tensor(4887), 5000)\n",
            "训练周期: 18 [0/60000 (0%)]\tLoss: 0.012961\t训练正确率: 100.00%\t校验正确率: 97.74%\n",
            "(tensor(4868), 5000)\n",
            "训练周期: 18 [6400/60000 (11%)]\tLoss: 0.121409\t训练正确率: 97.51%\t校验正确率: 97.36%\n",
            "(tensor(4881), 5000)\n",
            "训练周期: 18 [12800/60000 (21%)]\tLoss: 0.048466\t训练正确率: 97.56%\t校验正确率: 97.62%\n",
            "(tensor(4884), 5000)\n",
            "训练周期: 18 [19200/60000 (32%)]\tLoss: 0.055417\t训练正确率: 97.71%\t校验正确率: 97.68%\n",
            "(tensor(4883), 5000)\n",
            "训练周期: 18 [25600/60000 (43%)]\tLoss: 0.067202\t训练正确率: 97.73%\t校验正确率: 97.66%\n",
            "(tensor(4883), 5000)\n",
            "训练周期: 18 [32000/60000 (53%)]\tLoss: 0.090448\t训练正确率: 97.79%\t校验正确率: 97.66%\n",
            "(tensor(4887), 5000)\n",
            "训练周期: 18 [38400/60000 (64%)]\tLoss: 0.120594\t训练正确率: 97.83%\t校验正确率: 97.74%\n",
            "(tensor(4881), 5000)\n",
            "训练周期: 18 [44800/60000 (75%)]\tLoss: 0.171614\t训练正确率: 97.83%\t校验正确率: 97.62%\n",
            "(tensor(4900), 5000)\n",
            "训练周期: 18 [51200/60000 (85%)]\tLoss: 0.070536\t训练正确率: 97.82%\t校验正确率: 98.00%\n",
            "(tensor(4882), 5000)\n",
            "训练周期: 18 [57600/60000 (96%)]\tLoss: 0.051357\t训练正确率: 97.83%\t校验正确率: 97.64%\n",
            "(tensor(4900), 5000)\n",
            "训练周期: 19 [0/60000 (0%)]\tLoss: 0.040494\t训练正确率: 98.44%\t校验正确率: 98.00%\n",
            "(tensor(4889), 5000)\n",
            "训练周期: 19 [6400/60000 (11%)]\tLoss: 0.032785\t训练正确率: 97.99%\t校验正确率: 97.78%\n",
            "(tensor(4878), 5000)\n",
            "训练周期: 19 [12800/60000 (21%)]\tLoss: 0.053595\t训练正确率: 98.10%\t校验正确率: 97.56%\n",
            "(tensor(4893), 5000)\n",
            "训练周期: 19 [19200/60000 (32%)]\tLoss: 0.086710\t训练正确率: 97.95%\t校验正确率: 97.86%\n",
            "(tensor(4894), 5000)\n",
            "训练周期: 19 [25600/60000 (43%)]\tLoss: 0.143175\t训练正确率: 97.99%\t校验正确率: 97.88%\n",
            "(tensor(4883), 5000)\n",
            "训练周期: 19 [32000/60000 (53%)]\tLoss: 0.079457\t训练正确率: 98.04%\t校验正确率: 97.66%\n",
            "(tensor(4885), 5000)\n",
            "训练周期: 19 [38400/60000 (64%)]\tLoss: 0.053659\t训练正确率: 97.97%\t校验正确率: 97.70%\n",
            "(tensor(4872), 5000)\n",
            "训练周期: 19 [44800/60000 (75%)]\tLoss: 0.017219\t训练正确率: 97.95%\t校验正确率: 97.44%\n",
            "(tensor(4885), 5000)\n",
            "训练周期: 19 [51200/60000 (85%)]\tLoss: 0.059271\t训练正确率: 97.92%\t校验正确率: 97.70%\n",
            "(tensor(4897), 5000)\n",
            "训练周期: 19 [57600/60000 (96%)]\tLoss: 0.081632\t训练正确率: 97.91%\t校验正确率: 97.94%\n"
          ],
          "name": "stdout"
        }
      ]
    },
    {
      "cell_type": "code",
      "metadata": {
        "colab": {
          "base_uri": "https://localhost:8080/",
          "height": 460
        },
        "id": "8FdCDQA73s8I",
        "outputId": "41e1e711-4569-490a-a140-abd3a7a54c36"
      },
      "source": [
        "plt.figure(figsize = (10, 7))\r\n",
        "plt.plot(record) #record记载了每一个打印周期记录的训练和校验数据集上的准确度\r\n",
        "plt.xlabel('Steps')\r\n",
        "plt.ylabel('Error rate')"
      ],
      "execution_count": 50,
      "outputs": [
        {
          "output_type": "execute_result",
          "data": {
            "text/plain": [
              "Text(0, 0.5, 'Error rate')"
            ]
          },
          "metadata": {
            "tags": []
          },
          "execution_count": 50
        },
        {
          "output_type": "display_data",
          "data": {
            "image/png": "[encoded data removed]",
            "text/plain": [
              "<Figure size 720x504 with 1 Axes>"
            ]
          },
          "metadata": {
            "tags": [],
            "needs_background": "light"
          }
        }
      ]
    },
    {
      "cell_type": "code",
      "metadata": {
        "colab": {
          "base_uri": "https://localhost:8080/"
        },
        "id": "o_-nBIIq3ulC",
        "outputId": "9edcaa4d-38e1-4111-93e5-d9cac9c96743"
      },
      "source": [
        "net.eval()\r\n",
        "vals=[]\r\n",
        "for data, target in test_loader:\r\n",
        "    data, target = data.clone().detach().requires_grad_(True), target.clone().detach()\r\n",
        "    output = net(data) #将特征数据喂入网络，得到分类的输出\r\n",
        "    val = rightness(output, target) #获得正确样本数以及总样本数\r\n",
        "    vals.append(val) #记录结果\r\n",
        "\r\n",
        "#计算准确率\r\n",
        "rights = (sum([tup[0] for tup in vals]), sum([tup[1] for tup in vals]))\r\n",
        "right_rate = 100. * rights[0].numpy() / rights[1]\r\n",
        "print(right_rate)   "
      ],
      "execution_count": 51,
      "outputs": [
        {
          "output_type": "stream",
          "text": [
            "99.02\n"
          ],
          "name": "stdout"
        }
      ]
    },
    {
      "cell_type": "code",
      "metadata": {
        "colab": {
          "base_uri": "https://localhost:8080/",
          "height": 283
        },
        "id": "Wkpk5MhtA8VB",
        "outputId": "afdbcbd7-68e9-46d1-c8ca-01e8273f6bed"
      },
      "source": [
        "idx = 4000\r\n",
        "muteimg = test_dataset[idx][0].numpy()\r\n",
        "plt.imshow(muteimg[0,...])\r\n",
        "print('标签是：',test_dataset[idx][1])"
      ],
      "execution_count": 52,
      "outputs": [
        {
          "output_type": "stream",
          "text": [
            "标签是： 9\n"
          ],
          "name": "stdout"
        },
        {
          "output_type": "display_data",
          "data": {
            "image/png": "[encoded data removed]",
            "text/plain": [
              "<Figure size 432x288 with 1 Axes>"
            ]
          },
          "metadata": {
            "tags": [],
            "needs_background": "light"
          }
        }
      ]
    },
    {
      "cell_type": "code",
      "metadata": {
        "colab": {
          "base_uri": "https://localhost:8080/",
          "height": 152
        },
        "id": "Sr1KToIkBF-S",
        "outputId": "85762c7f-7e2b-4c62-b51e-bcc7c74961a2"
      },
      "source": [
        "plt.figure(figsize = (10, 7))\r\n",
        "for i in range(4):\r\n",
        "    plt.subplot(1,4,i + 1)\r\n",
        "    plt.axis('off')\r\n",
        "    plt.imshow(net.conv1.weight.data.numpy()[i,0,...]) "
      ],
      "execution_count": 53,
      "outputs": [
        {
          "output_type": "display_data",
          "data": {
            "image/png": "[encoded data removed]",
            "text/plain": [
              "<Figure size 720x504 with 4 Axes>"
            ]
          },
          "metadata": {
            "tags": [],
            "needs_background": "light"
          }
        }
      ]
    },
    {
      "cell_type": "code",
      "metadata": {
        "colab": {
          "base_uri": "https://localhost:8080/",
          "height": 1000
        },
        "id": "sVqsNh9ABK7s",
        "outputId": "e1f4ed3a-ba48-4317-b2c9-610c0976b144"
      },
      "source": [
        "i = 0\r\n",
        "for tup in weights:\r\n",
        "    if i % 10 == 0 :\r\n",
        "        layer1 = tup[0]\r\n",
        "        fig = plt.figure(figsize = (10, 7))\r\n",
        "        for j in range(4):\r\n",
        "            plt.subplot(1, 4, j + 1)\r\n",
        "            plt.axis('off')\r\n",
        "            plt.imshow(layer1.numpy()[j,0,...])\r\n",
        "    i += 1"
      ],
      "execution_count": 54,
      "outputs": [
        {
          "output_type": "display_data",
          "data": {
            "image/png": "[encoded data removed]",
            "text/plain": [
              "<Figure size 720x504 with 4 Axes>"
            ]
          },
          "metadata": {
            "tags": [],
            "needs_background": "light"
          }
        },
        {
          "output_type": "display_data",
          "data": {
            "image/png": "[encoded data removed]",
            "text/plain": [
              "<Figure size 720x504 with 4 Axes>"
            ]
          },
          "metadata": {
            "tags": [],
            "needs_background": "light"
          }
        },
        {
          "output_type": "display_data",
          "data": {
            "image/png": "[encoded data removed]",
            "text/plain": [
              "<Figure size 720x504 with 4 Axes>"
            ]
          },
          "metadata": {
            "tags": [],
            "needs_background": "light"
          }
        },
        {
          "output_type": "display_data",
          "data": {
            "image/png": "[encoded data removed]",
            "text/plain": [
              "<Figure size 720x504 with 4 Axes>"
            ]
          },
          "metadata": {
            "tags": [],
            "needs_background": "light"
          }
        },
        {
          "output_type": "display_data",
          "data": {
            "image/png": "[encoded data removed]",
            "text/plain": [
              "<Figure size 720x504 with 4 Axes>"
            ]
          },
          "metadata": {
            "tags": [],
            "needs_background": "light"
          }
        },
        {
          "output_type": "display_data",
          "data": {
            "image/png": "[encoded data removed]",
            "text/plain": [
              "<Figure size 720x504 with 4 Axes>"
            ]
          },
          "metadata": {
            "tags": [],
            "needs_background": "light"
          }
        },
        {
          "output_type": "display_data",
          "data": {
            "image/png": "[encoded data removed]",
            "text/plain": [
              "<Figure size 720x504 with 4 Axes>"
            ]
          },
          "metadata": {
            "tags": [],
            "needs_background": "light"
          }
        },
        {
          "output_type": "display_data",
          "data": {
            "image/png": "[encoded data removed]",
            "text/plain": [
              "<Figure size 720x504 with 4 Axes>"
            ]
          },
          "metadata": {
            "tags": [],
            "needs_background": "light"
          }
        },
        {
          "output_type": "display_data",
          "data": {
            "image/png": "[encoded data removed]",
            "text/plain": [
              "<Figure size 720x504 with 4 Axes>"
            ]
          },
          "metadata": {
            "tags": [],
            "needs_background": "light"
          }
        },
        {
          "output_type": "display_data",
          "data": {
            "image/png": "[encoded data removed]",
            "text/plain": [
              "<Figure size 720x504 with 4 Axes>"
            ]
          },
          "metadata": {
            "tags": [],
            "needs_background": "light"
          }
        },
        {
          "output_type": "display_data",
          "data": {
            "image/png": "[encoded data removed]",
            "text/plain": [
              "<Figure size 720x504 with 4 Axes>"
            ]
          },
          "metadata": {
            "tags": [],
            "needs_background": "light"
          }
        },
        {
          "output_type": "display_data",
          "data": {
            "image/png": "[encoded data removed]",
            "text/plain": [
              "<Figure size 720x504 with 4 Axes>"
            ]
          },
          "metadata": {
            "tags": [],
            "needs_background": "light"
          }
        },
        {
          "output_type": "display_data",
          "data": {
            "image/png": "[encoded data removed]",
            "text/plain": [
              "<Figure size 720x504 with 4 Axes>"
            ]
          },
          "metadata": {
            "tags": [],
            "needs_background": "light"
          }
        },
        {
          "output_type": "display_data",
          "data": {
            "image/png": "[encoded data removed]",
            "text/plain": [
              "<Figure size 720x504 with 4 Axes>"
            ]
          },
          "metadata": {
            "tags": [],
            "needs_background": "light"
          }
        },
        {
          "output_type": "display_data",
          "data": {
            "image/png": "[encoded data removed]",
            "text/plain": [
              "<Figure size 720x504 with 4 Axes>"
            ]
          },
          "metadata": {
            "tags": [],
            "needs_background": "light"
          }
        },
        {
          "output_type": "display_data",
          "data": {
            "image/png": "[encoded data removed]",
            "text/plain": [
              "<Figure size 720x504 with 4 Axes>"
            ]
          },
          "metadata": {
            "tags": [],
            "needs_background": "light"
          }
        },
        {
          "output_type": "display_data",
          "data": {
            "image/png": "[encoded data removed]",
            "text/plain": [
              "<Figure size 720x504 with 4 Axes>"
            ]
          },
          "metadata": {
            "tags": [],
            "needs_background": "light"
          }
        },
        {
          "output_type": "display_data",
          "data": {
            "image/png": "[encoded data removed]",
            "text/plain": [
              "<Figure size 720x504 with 4 Axes>"
            ]
          },
          "metadata": {
            "tags": [],
            "needs_background": "light"
          }
        },
        {
          "output_type": "display_data",
          "data": {
            "image/png": "[encoded data removed]",
            "text/plain": [
              "<Figure size 720x504 with 4 Axes>"
            ]
          },
          "metadata": {
            "tags": [],
            "needs_background": "light"
          }
        },
        {
          "output_type": "display_data",
          "data": {
            "image/png": "[encoded data removed]",
            "text/plain": [
              "<Figure size 720x504 with 4 Axes>"
            ]
          },
          "metadata": {
            "tags": [],
            "needs_background": "light"
          }
        }
      ]
    },
    {
      "cell_type": "code",
      "metadata": {
        "id": "WNOW_QO8BZOu"
      },
      "source": [
        "input_x = test_dataset[idx][0].unsqueeze(0) \r\n",
        "feature_maps = net.retrieve_features(input_x) #feature_maps是有两个元素的列表，分别表示第一层和第二层卷积的所有特征图\r\n",
        "\r\n",
        "plt.figure(figsize = (10, 7))\r\n",
        "\r\n",
        "#有四个特征图，循环把它们打印出来\r\n",
        "for i in range(4):\r\n",
        "    plt.subplot(1,4,i + 1)\r\n",
        "    plt.axis('off')\r\n",
        "    plt.imshow(feature_maps[0][0, i,...].data.numpy())"
      ],
      "execution_count": null,
      "outputs": []
    },
    {
      "cell_type": "code",
      "metadata": {
        "colab": {
          "base_uri": "https://localhost:8080/",
          "height": 536
        },
        "id": "RlWmYTLvBk78",
        "outputId": "762a5d02-3feb-4607-ca5b-370f00596bd3"
      },
      "source": [
        "plt.figure(figsize = (15, 10))\r\n",
        "for i in range(4):\r\n",
        "    for j in range(8):\r\n",
        "        plt.subplot(4, 8, i * 8 + j + 1)\r\n",
        "        plt.axis('off')\r\n",
        "        plt.imshow(net.conv2.weight.data.numpy()[j, i,...])"
      ],
      "execution_count": 57,
      "outputs": [
        {
          "output_type": "display_data",
          "data": {
            "image/png": "[encoded data removed]",
            "text/plain": [
              "<Figure size 1080x720 with 32 Axes>"
            ]
          },
          "metadata": {
            "tags": [],
            "needs_background": "light"
          }
        }
      ]
    },
    {
      "cell_type": "code",
      "metadata": {
        "id": "7o2k0buRB-zQ"
      },
      "source": [
        ""
      ],
      "execution_count": null,
      "outputs": []
    }
  ]
}