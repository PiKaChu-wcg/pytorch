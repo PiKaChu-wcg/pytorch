{
  "nbformat": 4,
  "nbformat_minor": 0,
  "metadata": {
    "colab": {
      "name": "SentimentAnalysis(RNN).ipynb",
      "provenance": [],
      "mount_file_id": "1Z-eXjGytLC69wvCLWV644HVD3U9z21kf",
      "authorship_tag": "ABX9TyOqz5HSYZjfqFtoYd9vyq5y",
      "include_colab_link": true
    },
    "kernelspec": {
      "name": "python3",
      "display_name": "Python 3"
    }
  },
  "cells": [
    {
      "cell_type": "markdown",
      "metadata": {
        "id": "view-in-github",
        "colab_type": "text"
      },
      "source": [
        "<a href=\"https://colab.research.google.com/github/PiKaChu-wcg/pytorch/blob/main/SentimentAnalysis(RNN).ipynb\" target=\"_parent\"><img src=\"https://colab.research.google.com/assets/colab-badge.svg\" alt=\"Open In Colab\"/></a>"
      ]
    },
    {
      "cell_type": "code",
      "metadata": {
        "colab": {
          "base_uri": "https://localhost:8080/"
        },
        "id": "ker2QWaOqfw2",
        "outputId": "cb08ab47-f405-4618-e5f3-511b0e3407c0"
      },
      "source": [
        "import json\r\n",
        "import requests\r\n",
        "import torch\r\n",
        "import torch.nn as nn\r\n",
        "import re \r\n",
        "import jieba\r\n",
        "import matplotlib.pyplot as plt\r\n",
        "import numpy as np\r\n",
        "from collections import Counter\r\n",
        "good_file='/content/drive/MyDrive/pytorch/good.txt'\r\n",
        "bad_file='/content/drive/MyDrive/pytorch/bad.txt'\r\n",
        "def filter_punc(sentence):\r\n",
        "    sentence = re.sub(\"[\\s+\\.\\!\\/_,$%^*(+\\\"\\'“”《》?“]+|[+——！，。？、~@#￥%……&*（）：]+\", \"\", sentence)  \r\n",
        "    return(sentence)\r\n",
        "def Prepare_data(good_file,bad_file,is_filter=True):\r\n",
        "    all_words=[]\r\n",
        "    pos_sentences=[]\r\n",
        "    neg_sentences=[]\r\n",
        "    with open(good_file,'r',encoding='utf-8') as fr:\r\n",
        "        for idx,line in enumerate(fr):\r\n",
        "            if is_filter:\r\n",
        "                line=filter_punc(line)\r\n",
        "            words=jieba.lcut(line)\r\n",
        "            if len(words):\r\n",
        "                all_words+=words\r\n",
        "                pos_sentences.append(words)\r\n",
        "    print('{0}包含{1}行{2}个词'.format(good_file,idx+1,len(all_words)))\r\n",
        "    count=len(all_words)\r\n",
        "    with open(bad_file,'r',encoding='utf-8') as fr:\r\n",
        "        for idx,line in enumerate(fr):\r\n",
        "            if is_filter:\r\n",
        "                line=filter_punc(line)\r\n",
        "            words=jieba.lcut(line)\r\n",
        "            if len(words):\r\n",
        "                all_words+=words\r\n",
        "                neg_sentences.append(words)\r\n",
        "    print('{0}包含{1}行{2}个词'.format(bad_file,idx+1,len(all_words)-count))\r\n",
        "    diction={}\r\n",
        "    cnt=Counter(all_words)\r\n",
        "    for word,freq in cnt.items():\r\n",
        "        diction[word]=[len(diction),freq]\r\n",
        "    print(\"{}\".format(len(diction)))\r\n",
        "    return(pos_sentences,neg_sentences,diction)\r\n",
        "pos_sentences, neg_sentences, diction = Prepare_data(good_file, bad_file, False)"
      ],
      "execution_count": 7,
      "outputs": [
        {
          "output_type": "stream",
          "text": [
            "Building prefix dict from the default dictionary ...\n",
            "Dumping model to file cache /tmp/jieba.cache\n",
            "Loading model cost 0.943 seconds.\n",
            "Prefix dict has been built successfully.\n"
          ],
          "name": "stderr"
        },
        {
          "output_type": "stream",
          "text": [
            "/content/drive/MyDrive/pytorch/good.txt包含8089行136359个词\n",
            "/content/drive/MyDrive/pytorch/bad.txt包含5076行75600个词\n",
            "7029\n"
          ],
          "name": "stdout"
        }
      ]
    },
    {
      "cell_type": "code",
      "metadata": {
        "id": "QlZ0gQbMro4b"
      },
      "source": [
        "def word2idx(word,diction):\r\n",
        "    if word in diction:\r\n",
        "        value=diction[word][0]\r\n",
        "    else:\r\n",
        "        value=-1\r\n",
        "    return value\r\n",
        "def idx2word(idx,diction):\r\n",
        "    for w,v in diction.items():\r\n",
        "        if v[0]==idx:\r\n",
        "            return(w)\r\n",
        "    return(None)\r\n",
        "def sentence2vec(sentence,diction):\r\n",
        "    vector=np.zeros(len(diction))\r\n",
        "    for l in sentence:\r\n",
        "        vector[l]+=1\r\n",
        "    return(1.0*vector/len(sentence))"
      ],
      "execution_count": 8,
      "outputs": []
    },
    {
      "cell_type": "code",
      "metadata": {
        "id": "Vli3IwpssDO5"
      },
      "source": [
        "# 重新准备数据，输入给RNN\r\n",
        "# 与词袋模型不同的是。每一个句子在词袋模型中都被表示为了固定长度的向量，其中长度为字典的尺寸\r\n",
        "# 在RNN中，每一个句子就是被单独当成词语的序列来处理的，因此序列的长度是与句子等长的\r\n",
        "\r\n",
        "dataset = []\r\n",
        "labels = []\r\n",
        "sentences = []\r\n",
        "\r\n",
        "# 正例集合\r\n",
        "for sentence in pos_sentences:\r\n",
        "    new_sentence = []\r\n",
        "    for l in sentence:\r\n",
        "        if l in diction:\r\n",
        "            # 注意将每个词编码\r\n",
        "            new_sentence.append(word2idx(l, diction))\r\n",
        "    #每一个句子都是一个不等长的整数序列\r\n",
        "    dataset.append(new_sentence)\r\n",
        "    labels.append(0)\r\n",
        "    sentences.append(sentence)\r\n",
        "\r\n",
        "# 反例集合\r\n",
        "for sentence in neg_sentences:\r\n",
        "    new_sentence = []\r\n",
        "    for l in sentence:\r\n",
        "        if l in diction:\r\n",
        "            new_sentence.append(word2idx(l, diction))\r\n",
        "    dataset.append(new_sentence)\r\n",
        "    labels.append(1)\r\n",
        "    sentences.append(sentence)\r\n",
        "\r\n",
        "# 重新对数据洗牌，构造数据集合\r\n",
        "indices = np.random.permutation(len(dataset))\r\n",
        "dataset = [dataset[i] for i in indices]\r\n",
        "labels = [labels[i] for i in indices]\r\n",
        "sentences = [sentences[i] for i in indices]\r\n",
        "\r\n",
        "test_size = len(dataset) // 10\r\n",
        "\r\n",
        "# 训练集\r\n",
        "train_data = dataset[2 * test_size :]\r\n",
        "train_label = labels[2 * test_size :]\r\n",
        "\r\n",
        "# 校验集\r\n",
        "valid_data = dataset[: test_size]\r\n",
        "valid_label = labels[: test_size]\r\n",
        "\r\n",
        "# 测试集\r\n",
        "test_data = dataset[test_size : 2 * test_size]\r\n",
        "test_label = labels[test_size : 2 * test_size]\r\n"
      ],
      "execution_count": 9,
      "outputs": []
    },
    {
      "cell_type": "code",
      "metadata": {
        "id": "QbxEVqkhswt8"
      },
      "source": [
        "class RNN(nn.Module):\r\n",
        "    def __init__(self,input_size,hidden_size,output_size):\r\n",
        "        super(RNN, self).__init__()\r\n",
        "        self.hidden_size=hidden_size\r\n",
        "        self.embed=nn.Embedding(input_size,hidden_size)\r\n",
        "        self.i2h=nn.Linear(2*hidden_size,hidden_size)\r\n",
        "        self.i2o=nn.Linear(hidden_size,output_size)\r\n",
        "        self.softmax=nn.LogSoftmax()\r\n",
        "    def forward(self,input,hidden):\r\n",
        "        x=self.embed(input)\r\n",
        "        combined=torch.cat((x,hidden),1)\r\n",
        "        hidden=self.i2h(combined)\r\n",
        "        output=self.i2o(hidden)\r\n",
        "        output=self.softmax(output)\r\n",
        "        return output,hidden\r\n",
        "    def initHidden(self):\r\n",
        "        return torch.zeros(1,self.hidden_size)\r\n",
        "\r\n",
        "rnn=RNN(len(diction),10,2)\r\n",
        "def rightness(predictions, labels):\r\n",
        "    \"\"\"计算预测错误率的函数，其中predictions是模型给出的一组预测结果，batch_size行num_classes列的矩阵，labels是数据之中的正确答案\"\"\"\r\n",
        "    pred = torch.max(predictions.data, 1)[1] # 对于任意一行（一个样本）的输出值的第1个维度，求最大，得到每一行的最大元素的下标\r\n",
        "    rights = pred.eq(labels.data.view_as(pred)).sum() #将下标与labels中包含的类别进行比较，并累计得到比较正确的数量\r\n",
        "    return rights, len(labels) #返回正确的数量和这一次一共比较了多少元素"
      ],
      "execution_count": 33,
      "outputs": []
    },
    {
      "cell_type": "code",
      "metadata": {
        "colab": {
          "base_uri": "https://localhost:8080/"
        },
        "id": "ZQR2bLy1u0e7",
        "outputId": "abef23b1-d605-4a11-f175-9b07cc05343a"
      },
      "source": [
        "\r\n",
        "cost=torch.nn.NLLLoss()\r\n",
        "optimizer=torch.optim.Adam(rnn.parameters(),lr=0.001)\r\n",
        "records=[]\r\n",
        "losses=[]\r\n",
        "for epoch in range(10):\r\n",
        "    for i,data in enumerate(zip(train_data,train_label)):\r\n",
        "        x,y=data\r\n",
        "        x=torch.tensor(x,dtype=torch.long).unsqueeze(1)\r\n",
        "        y=torch.tensor(np.array([y]),dtype=torch.long)\r\n",
        "        optimizer.zero_grad()\r\n",
        "        hidden=rnn.initHidden()\r\n",
        "        for s in range(x.size()[0]):\r\n",
        "            output,hidden=rnn(x[s],hidden)\r\n",
        "        loss=cost(output,y)\r\n",
        "        losses.append(loss.data.numpy())\r\n",
        "        loss.backward()\r\n",
        "        optimizer.step()\r\n",
        "        if i % 3000 == 0:\r\n",
        "            # 每间隔3000步来一次校验集上面的计算\r\n",
        "            val_losses = []\r\n",
        "            rights = []\r\n",
        "            for j, val in enumerate(zip(valid_data, valid_label)):\r\n",
        "                x, y = val\r\n",
        "                x = torch.tensor(x, dtype = torch.long).unsqueeze(1)\r\n",
        "                y = torch.tensor(np.array([y]), dtype = torch.long)\r\n",
        "                hidden = rnn.initHidden()\r\n",
        "                for s in range(x.size()[0]):\r\n",
        "                    output, hidden = rnn(x[s], hidden)\r\n",
        "                right = rightness(output, y)\r\n",
        "                rights.append(right)\r\n",
        "                loss = cost(output, y)\r\n",
        "                val_losses.append(loss.data.numpy())\r\n",
        "            # 计算准确度\r\n",
        "            right_ratio = 1.0 * np.sum([i[0] for i in rights]) / np.sum([i[1] for i in rights])\r\n",
        "            print('第{}轮，训练损失：{:.2f}, 测试损失：{:.2f}, 测试准确率: {:.2f}'.format(epoch, np.mean(losses),\r\n",
        "                                                                        np.mean(val_losses), right_ratio))\r\n",
        "            records.append([np.mean(losses), np.mean(val_losses), right_ratio])"
      ],
      "execution_count": 34,
      "outputs": [
        {
          "output_type": "stream",
          "text": [
            "/usr/local/lib/python3.7/dist-packages/ipykernel_launcher.py:14: UserWarning: Implicit dimension choice for log_softmax has been deprecated. Change the call to include dim=X as an argument.\n",
            "  \n"
          ],
          "name": "stderr"
        },
        {
          "output_type": "stream",
          "text": [
            "第0轮，训练损失：1.33, 测试损失：0.93, 测试准确率: 0.37\n",
            "第0轮，训练损失：0.56, 测试损失：0.47, 测试准确率: 0.80\n",
            "第0轮，训练损失：0.48, 测试损失：0.37, 测试准确率: 0.86\n",
            "第0轮，训练损失：0.44, 测试损失：0.33, 测试准确率: 0.88\n",
            "第1轮，训练损失：0.43, 测试损失：0.32, 测试准确率: 0.89\n",
            "第1轮，训练损失：0.41, 测试损失：0.32, 测试准确率: 0.90\n",
            "第1轮，训练损失：0.39, 测试损失：0.31, 测试准确率: 0.89\n",
            "第1轮，训练损失：0.38, 测试损失：0.29, 测试准确率: 0.90\n",
            "第2轮，训练损失：0.37, 测试损失：0.29, 测试准确率: 0.91\n",
            "第2轮，训练损失：0.36, 测试损失：0.29, 测试准确率: 0.90\n",
            "第2轮，训练损失：0.35, 测试损失：0.29, 测试准确率: 0.90\n",
            "第2轮，训练损失：0.34, 测试损失：0.28, 测试准确率: 0.91\n",
            "第3轮，训练损失：0.34, 测试损失：0.28, 测试准确率: 0.90\n",
            "第3轮，训练损失：0.34, 测试损失：0.29, 测试准确率: 0.91\n",
            "第3轮，训练损失：0.33, 测试损失：0.29, 测试准确率: 0.90\n",
            "第3轮，训练损失：0.32, 测试损失：0.28, 测试准确率: 0.91\n",
            "第4轮，训练损失：0.32, 测试损失：0.28, 测试准确率: 0.90\n",
            "第4轮，训练损失：0.32, 测试损失：0.28, 测试准确率: 0.91\n",
            "第4轮，训练损失：0.31, 测试损失：0.29, 测试准确率: 0.90\n",
            "第4轮，训练损失：0.31, 测试损失：0.28, 测试准确率: 0.91\n",
            "第5轮，训练损失：0.31, 测试损失：0.28, 测试准确率: 0.91\n",
            "第5轮，训练损失：0.30, 测试损失：0.28, 测试准确率: 0.91\n",
            "第5轮，训练损失：0.30, 测试损失：0.28, 测试准确率: 0.90\n",
            "第5轮，训练损失：0.30, 测试损失：0.27, 测试准确率: 0.91\n",
            "第6轮，训练损失：0.30, 测试损失：0.28, 测试准确率: 0.91\n",
            "第6轮，训练损失：0.29, 测试损失：0.28, 测试准确率: 0.91\n",
            "第6轮，训练损失：0.29, 测试损失：0.28, 测试准确率: 0.91\n",
            "第6轮，训练损失：0.29, 测试损失：0.27, 测试准确率: 0.91\n",
            "第7轮，训练损失：0.29, 测试损失：0.28, 测试准确率: 0.91\n",
            "第7轮，训练损失：0.28, 测试损失：0.28, 测试准确率: 0.92\n",
            "第7轮，训练损失：0.28, 测试损失：0.28, 测试准确率: 0.91\n",
            "第7轮，训练损失：0.28, 测试损失：0.27, 测试准确率: 0.91\n",
            "第8轮，训练损失：0.28, 测试损失：0.28, 测试准确率: 0.91\n",
            "第8轮，训练损失：0.28, 测试损失：0.29, 测试准确率: 0.92\n",
            "第8轮，训练损失：0.28, 测试损失：0.29, 测试准确率: 0.91\n",
            "第8轮，训练损失：0.27, 测试损失：0.27, 测试准确率: 0.91\n",
            "第9轮，训练损失：0.27, 测试损失：0.28, 测试准确率: 0.91\n",
            "第9轮，训练损失：0.27, 测试损失：0.29, 测试准确率: 0.92\n",
            "第9轮，训练损失：0.27, 测试损失：0.29, 测试准确率: 0.91\n",
            "第9轮，训练损失：0.27, 测试损失：0.27, 测试准确率: 0.92\n"
          ],
          "name": "stdout"
        }
      ]
    },
    {
      "cell_type": "code",
      "metadata": {
        "colab": {
          "base_uri": "https://localhost:8080/",
          "height": 297
        },
        "id": "MKxFsc30vzWc",
        "outputId": "e8c98425-ec86-41f9-9b03-acce9e0288bd"
      },
      "source": [
        "a = [i[0] for i in records]\r\n",
        "b = [i[1] for i in records]\r\n",
        "c = [i[2] for i in records]\r\n",
        "plt.plot(a, label = 'Train Loss')\r\n",
        "plt.plot(b, label = 'Valid Loss')\r\n",
        "plt.plot(c, label = 'Valid Accuracy')\r\n",
        "plt.xlabel('Steps')\r\n",
        "plt.ylabel('Loss & Accuracy')\r\n",
        "plt.legend()"
      ],
      "execution_count": 35,
      "outputs": [
        {
          "output_type": "execute_result",
          "data": {
            "text/plain": [
              "<matplotlib.legend.Legend at 0x7f457793bad0>"
            ]
          },
          "metadata": {
            "tags": []
          },
          "execution_count": 35
        },
        {
          "output_type": "display_data",
          "data": {
            "image/png": "[encoded data removed]",
            "text/plain": [
              "<Figure size 432x288 with 1 Axes>"
            ]
          },
          "metadata": {
            "tags": [],
            "needs_background": "light"
          }
        }
      ]
    },
    {
      "cell_type": "code",
      "metadata": {
        "colab": {
          "base_uri": "https://localhost:8080/"
        },
        "id": "ThvdqjHBvoT4",
        "outputId": "2ad8db07-ceb9-4b1c-9981-f9bee0bb6d52"
      },
      "source": [
        "#在测试\r\n",
        "vals = [] #记录准确率所用列表\r\n",
        "rights = []\r\n",
        "#对测试数据集进行循环\r\n",
        "for j, test in enumerate(zip(test_data, test_label)):\r\n",
        "    x, y = test\r\n",
        "    x = torch.LongTensor(x).unsqueeze(1)\r\n",
        "    y = torch.LongTensor(np.array([y]))\r\n",
        "    hidden = rnn.initHidden()\r\n",
        "    for s in range(x.size()[0]):\r\n",
        "        output, hidden = rnn(x[s], hidden)\r\n",
        "    right = rightness(output, y)\r\n",
        "    rights.append(right)\r\n",
        "    val = rightness(output, y) #获得正确样本数以及总样本数\r\n",
        "    vals.append(val) #记录结果\r\n",
        "\r\n",
        "#计算准确率\r\n",
        "rights = (sum([tup[0] for tup in vals]), sum([tup[1] for tup in vals]))\r\n",
        "right_rate = 1.0 * rights[0].data.numpy() / rights[1]\r\n",
        "right_rate"
      ],
      "execution_count": 37,
      "outputs": [
        {
          "output_type": "stream",
          "text": [
            "/usr/local/lib/python3.7/dist-packages/ipykernel_launcher.py:14: UserWarning: Implicit dimension choice for log_softmax has been deprecated. Change the call to include dim=X as an argument.\n",
            "  \n"
          ],
          "name": "stderr"
        },
        {
          "output_type": "execute_result",
          "data": {
            "text/plain": [
              "0.9179331306990881"
            ]
          },
          "metadata": {
            "tags": []
          },
          "execution_count": 37
        }
      ]
    },
    {
      "cell_type": "code",
      "metadata": {
        "id": "VV1JQ56BvrI7"
      },
      "source": [
        "torch.save(rnn, 'rnn.mdl')"
      ],
      "execution_count": 38,
      "outputs": []
    },
    {
      "cell_type": "code",
      "metadata": {
        "id": "OQ0iSdywvrpd"
      },
      "source": [
        ""
      ],
      "execution_count": null,
      "outputs": []
    }
  ]
}