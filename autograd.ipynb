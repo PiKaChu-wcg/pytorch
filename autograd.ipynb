{
  "nbformat": 4,
  "nbformat_minor": 0,
  "metadata": {
    "colab": {
      "name": "autograd.ipynb",
      "provenance": [],
      "collapsed_sections": [],
      "authorship_tag": "ABX9TyP9oQ5qWb31c2yFmEtKlj/0",
      "include_colab_link": true
    },
    "kernelspec": {
      "name": "python3",
      "display_name": "Python 3"
    }
  },
  "cells": [
    {
      "cell_type": "markdown",
      "metadata": {
        "id": "view-in-github",
        "colab_type": "text"
      },
      "source": [
        "<a href=\"https://colab.research.google.com/github/PiKaChu-wcg/pytorch/blob/main/autograd.ipynb\" target=\"_parent\"><img src=\"https://colab.research.google.com/assets/colab-badge.svg\" alt=\"Open In Colab\"/></a>"
      ]
    },
    {
      "cell_type": "code",
      "metadata": {
        "id": "VyZg-JxQf1f4",
        "cellView": "code"
      },
      "source": [
        "import numpy as np\n",
        "import pandas as pd\n",
        "from matplotlib import pyplot as plt\n",
        "import torch\n",
        "from torch.autograd import Variable"
      ],
      "execution_count": 21,
      "outputs": []
    },
    {
      "cell_type": "code",
      "metadata": {
        "id": "OQ7dm280l9tx"
      },
      "source": [
        "x=torch.linspace(0,100).type(torch.FloatTensor)\r\n",
        "y=x+torch.randn(100)*10\r\n",
        "a=torch.rand(1)\r\n",
        "b=torch.rand(1)\r\n",
        "a.requires_grad=True\r\n",
        "b.requires_grad=True"
      ],
      "execution_count": 74,
      "outputs": []
    },
    {
      "cell_type": "code",
      "metadata": {
        "id": "xz5enGwJmufs"
      },
      "source": [
        "learning_rate=0.0001"
      ],
      "execution_count": 23,
      "outputs": []
    },
    {
      "cell_type": "code",
      "metadata": {
        "id": "ByAF0agDm2rb"
      },
      "source": [
        "for i in range(1000):\r\n",
        "    predictions=a.expand_as(x)*x+b.expand_as(x)\r\n",
        "    loss=torch.mean((predictions-y)**2)\r\n",
        "    loss.backward()\r\n",
        "    a.data.add_(-learning_rate*a.grad)\r\n",
        "    b.data.add_(-learning_rate*b.grad)\r\n",
        "    a.grad.zero_()\r\n",
        "    b.grad.zero_()\r\n"
      ],
      "execution_count": 80,
      "outputs": []
    },
    {
      "cell_type": "code",
      "metadata": {
        "colab": {
          "base_uri": "https://localhost:8080/",
          "height": 428
        },
        "id": "dKl_hDQFoBZa",
        "outputId": "1433a496-e0f3-43a6-e930-38cbcc5c1bd3"
      },
      "source": [
        "x=x.numpy()\r\n",
        "plt.figure(figsize=(10,7))\r\n",
        "xplot,=plt.plot(x,y.numpy(),'o')\r\n",
        "yplot,=plt.plot(x,a.data.numpy()*x+b.data.numpy())\r\n",
        "plt.show()"
      ],
      "execution_count": 84,
      "outputs": [
        {
          "output_type": "display_data",
          "data": {
            "image/png": "[encoded data removed]",
            "text/plain": [
              "<Figure size 720x504 with 1 Axes>"
            ]
          },
          "metadata": {
            "tags": [],
            "needs_background": "light"
          }
        }
      ]
    },
    {
      "cell_type": "code",
      "metadata": {
        "id": "hrgxatjQpXlL",
        "outputId": "9e5ea233-b4c5-4921-e9c7-e59c0d4fb19e",
        "colab": {
          "base_uri": "https://localhost:8080/"
        }
      },
      "source": [
        "a.grad.zero_()"
      ],
      "execution_count": 45,
      "outputs": [
        {
          "output_type": "execute_result",
          "data": {
            "text/plain": [
              "tensor([0.])"
            ]
          },
          "metadata": {
            "tags": []
          },
          "execution_count": 45
        }
      ]
    },
    {
      "cell_type": "code",
      "metadata": {
        "id": "6STAPGfrpekq",
        "outputId": "41afdd0e-18f1-4755-f34b-3cd0de619c6d",
        "colab": {
          "base_uri": "https://localhost:8080/"
        }
      },
      "source": [
        "a"
      ],
      "execution_count": 46,
      "outputs": [
        {
          "output_type": "execute_result",
          "data": {
            "text/plain": [
              "tensor([0.1019], requires_grad=True)"
            ]
          },
          "metadata": {
            "tags": []
          },
          "execution_count": 46
        }
      ]
    },
    {
      "cell_type": "code",
      "metadata": {
        "id": "tq5z_6Hfp08P",
        "outputId": "1aa74be2-4ab4-4c4d-82af-a49fd79a4d33",
        "colab": {
          "base_uri": "https://localhost:8080/"
        }
      },
      "source": [
        ""
      ],
      "execution_count": 40,
      "outputs": [
        {
          "output_type": "execute_result",
          "data": {
            "text/plain": [
              "tensor([0.])"
            ]
          },
          "metadata": {
            "tags": []
          },
          "execution_count": 40
        }
      ]
    },
    {
      "cell_type": "code",
      "metadata": {
        "id": "o_sx-MZWqC2U"
      },
      "source": [
        ""
      ],
      "execution_count": null,
      "outputs": []
    }
  ]
}