{
  "nbformat": 4,
  "nbformat_minor": 0,
  "metadata": {
    "colab": {
      "name": "firstnn.ipynb",
      "provenance": [],
      "authorship_tag": "ABX9TyNImBMJO07VmqafjEY2Ekg3",
      "include_colab_link": true
    },
    "kernelspec": {
      "name": "python3",
      "display_name": "Python 3"
    }
  },
  "cells": [
    {
      "cell_type": "markdown",
      "metadata": {
        "id": "view-in-github",
        "colab_type": "text"
      },
      "source": [
        "<a href=\"https://colab.research.google.com/github/PiKaChu-wcg/pytorch/blob/main/firstnn.ipynb\" target=\"_parent\"><img src=\"https://colab.research.google.com/assets/colab-badge.svg\" alt=\"Open In Colab\"/></a>"
      ]
    },
    {
      "cell_type": "markdown",
      "metadata": {
        "id": "TVzUR6yhwV_h"
      },
      "source": [
        "# pytorch的头文件\r\n",
        "numpy pandas plt 等等"
      ]
    },
    {
      "cell_type": "code",
      "metadata": {
        "id": "dcHp7hDctId-"
      },
      "source": [
        "import pandas as pd\r\n",
        "import numpy as np\r\n",
        "from matplotlib import pyplot as plt\r\n",
        "import torch"
      ],
      "execution_count": 8,
      "outputs": []
    },
    {
      "cell_type": "code",
      "metadata": {
        "id": "k9hCjwWYuHsO"
      },
      "source": [
        "data=pd.read_csv('data.csv')"
      ],
      "execution_count": 5,
      "outputs": []
    },
    {
      "cell_type": "code",
      "metadata": {
        "id": "113NLr85uUC0",
        "colab": {
          "base_uri": "https://localhost:8080/",
          "height": 419
        },
        "outputId": "3ce4d765-2a8e-4e98-c5e8-1b8de2dea17e"
      },
      "source": [
        "data"
      ],
      "execution_count": 7,
      "outputs": [
        {
          "output_type": "execute_result",
          "data": {
            "text/html": [
              "<div>\n",
              "<style scoped>\n",
              "    .dataframe tbody tr th:only-of-type {\n",
              "        vertical-align: middle;\n",
              "    }\n",
              "\n",
              "    .dataframe tbody tr th {\n",
              "        vertical-align: top;\n",
              "    }\n",
              "\n",
              "    .dataframe thead th {\n",
              "        text-align: right;\n",
              "    }\n",
              "</style>\n",
              "<table border=\"1\" class=\"dataframe\">\n",
              "  <thead>\n",
              "    <tr style=\"text-align: right;\">\n",
              "      <th></th>\n",
              "      <th>Duration</th>\n",
              "      <th>Start date</th>\n",
              "      <th>End date</th>\n",
              "      <th>Start station number</th>\n",
              "      <th>Start station</th>\n",
              "      <th>End station number</th>\n",
              "      <th>End station</th>\n",
              "      <th>Bike number</th>\n",
              "      <th>Member type</th>\n",
              "    </tr>\n",
              "  </thead>\n",
              "  <tbody>\n",
              "    <tr>\n",
              "      <th>0</th>\n",
              "      <td>1012</td>\n",
              "      <td>2010-09-20 11:27:04</td>\n",
              "      <td>2010-09-20 11:43:56</td>\n",
              "      <td>31208</td>\n",
              "      <td>M St &amp; New Jersey Ave SE</td>\n",
              "      <td>31108</td>\n",
              "      <td>4th &amp; M St SW</td>\n",
              "      <td>W00742</td>\n",
              "      <td>Member</td>\n",
              "    </tr>\n",
              "    <tr>\n",
              "      <th>1</th>\n",
              "      <td>61</td>\n",
              "      <td>2010-09-20 11:41:22</td>\n",
              "      <td>2010-09-20 11:42:23</td>\n",
              "      <td>31209</td>\n",
              "      <td>1st &amp; N St  SE</td>\n",
              "      <td>31209</td>\n",
              "      <td>1st &amp; N St  SE</td>\n",
              "      <td>W00032</td>\n",
              "      <td>Member</td>\n",
              "    </tr>\n",
              "    <tr>\n",
              "      <th>2</th>\n",
              "      <td>2690</td>\n",
              "      <td>2010-09-20 12:05:37</td>\n",
              "      <td>2010-09-20 12:50:27</td>\n",
              "      <td>31600</td>\n",
              "      <td>5th &amp; K St NW</td>\n",
              "      <td>31100</td>\n",
              "      <td>19th St &amp; Pennsylvania Ave NW</td>\n",
              "      <td>W00993</td>\n",
              "      <td>Member</td>\n",
              "    </tr>\n",
              "    <tr>\n",
              "      <th>3</th>\n",
              "      <td>1406</td>\n",
              "      <td>2010-09-20 12:06:05</td>\n",
              "      <td>2010-09-20 12:29:32</td>\n",
              "      <td>31600</td>\n",
              "      <td>5th &amp; K St NW</td>\n",
              "      <td>31602</td>\n",
              "      <td>Park Rd &amp; Holmead Pl NW</td>\n",
              "      <td>W00344</td>\n",
              "      <td>Member</td>\n",
              "    </tr>\n",
              "    <tr>\n",
              "      <th>4</th>\n",
              "      <td>1413</td>\n",
              "      <td>2010-09-20 12:10:43</td>\n",
              "      <td>2010-09-20 12:34:17</td>\n",
              "      <td>31100</td>\n",
              "      <td>19th St &amp; Pennsylvania Ave NW</td>\n",
              "      <td>31201</td>\n",
              "      <td>15th &amp; P St NW</td>\n",
              "      <td>W00883</td>\n",
              "      <td>Member</td>\n",
              "    </tr>\n",
              "    <tr>\n",
              "      <th>...</th>\n",
              "      <td>...</td>\n",
              "      <td>...</td>\n",
              "      <td>...</td>\n",
              "      <td>...</td>\n",
              "      <td>...</td>\n",
              "      <td>...</td>\n",
              "      <td>...</td>\n",
              "      <td>...</td>\n",
              "      <td>...</td>\n",
              "    </tr>\n",
              "    <tr>\n",
              "      <th>115592</th>\n",
              "      <td>2179</td>\n",
              "      <td>2010-12-31 23:20:32</td>\n",
              "      <td>2010-12-31 23:56:52</td>\n",
              "      <td>31110</td>\n",
              "      <td>20th St &amp; Florida Ave NW</td>\n",
              "      <td>31623</td>\n",
              "      <td>Columbus Circle / Union Station</td>\n",
              "      <td>W00859</td>\n",
              "      <td>Casual</td>\n",
              "    </tr>\n",
              "    <tr>\n",
              "      <th>115593</th>\n",
              "      <td>953</td>\n",
              "      <td>2010-12-31 23:21:57</td>\n",
              "      <td>2010-12-31 23:37:50</td>\n",
              "      <td>31106</td>\n",
              "      <td>Calvert &amp; Biltmore St NW</td>\n",
              "      <td>31401</td>\n",
              "      <td>14th St &amp; Spring Rd NW</td>\n",
              "      <td>W00914</td>\n",
              "      <td>Member</td>\n",
              "    </tr>\n",
              "    <tr>\n",
              "      <th>115594</th>\n",
              "      <td>737</td>\n",
              "      <td>2010-12-31 23:27:28</td>\n",
              "      <td>2010-12-31 23:39:45</td>\n",
              "      <td>31602</td>\n",
              "      <td>Park Rd &amp; Holmead Pl NW</td>\n",
              "      <td>31401</td>\n",
              "      <td>14th St &amp; Spring Rd NW</td>\n",
              "      <td>W00973</td>\n",
              "      <td>Member</td>\n",
              "    </tr>\n",
              "    <tr>\n",
              "      <th>115595</th>\n",
              "      <td>514</td>\n",
              "      <td>2010-12-31 23:37:38</td>\n",
              "      <td>2010-12-31 23:46:12</td>\n",
              "      <td>31111</td>\n",
              "      <td>10th &amp; U St NW</td>\n",
              "      <td>31202</td>\n",
              "      <td>14th &amp; R St NW</td>\n",
              "      <td>W01119</td>\n",
              "      <td>Member</td>\n",
              "    </tr>\n",
              "    <tr>\n",
              "      <th>115596</th>\n",
              "      <td>51962</td>\n",
              "      <td>2010-12-31 23:49:05</td>\n",
              "      <td>2011-01-01 14:15:08</td>\n",
              "      <td>31111</td>\n",
              "      <td>10th &amp; U St NW</td>\n",
              "      <td>31111</td>\n",
              "      <td>10th &amp; U St NW</td>\n",
              "      <td>W00771</td>\n",
              "      <td>Casual</td>\n",
              "    </tr>\n",
              "  </tbody>\n",
              "</table>\n",
              "<p>115597 rows × 9 columns</p>\n",
              "</div>"
            ],
            "text/plain": [
              "        Duration           Start date  ... Bike number  Member type\n",
              "0           1012  2010-09-20 11:27:04  ...      W00742       Member\n",
              "1             61  2010-09-20 11:41:22  ...      W00032       Member\n",
              "2           2690  2010-09-20 12:05:37  ...      W00993       Member\n",
              "3           1406  2010-09-20 12:06:05  ...      W00344       Member\n",
              "4           1413  2010-09-20 12:10:43  ...      W00883       Member\n",
              "...          ...                  ...  ...         ...          ...\n",
              "115592      2179  2010-12-31 23:20:32  ...      W00859       Casual\n",
              "115593       953  2010-12-31 23:21:57  ...      W00914       Member\n",
              "115594       737  2010-12-31 23:27:28  ...      W00973       Member\n",
              "115595       514  2010-12-31 23:37:38  ...      W01119       Member\n",
              "115596     51962  2010-12-31 23:49:05  ...      W00771       Casual\n",
              "\n",
              "[115597 rows x 9 columns]"
            ]
          },
          "metadata": {
            "tags": []
          },
          "execution_count": 7
        }
      ]
    },
    {
      "cell_type": "code",
      "metadata": {
        "id": "49wJeQU7uape"
      },
      "source": [
        ""
      ],
      "execution_count": null,
      "outputs": []
    }
  ]
}